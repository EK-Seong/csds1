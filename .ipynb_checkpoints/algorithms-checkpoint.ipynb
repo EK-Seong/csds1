{
 "cells": [
  {
   "cell_type": "markdown",
   "id": "2d7a515b-ec56-42b6-85e8-ceb374bf5d17",
   "metadata": {},
   "source": [
    "# Linear Search"
   ]
  },
  {
   "cell_type": "code",
   "execution_count": 3,
   "id": "4f75917e-9657-481c-9a10-def2748d46bd",
   "metadata": {},
   "outputs": [],
   "source": [
    "def linSearch(L:list, value:any)->int:\n",
    "    i = 0\n",
    "    while i < len(L) and L[i] != value:\n",
    "        i += 1\n",
    "    if i == len(L):\n",
    "        return -1\n",
    "    else:\n",
    "        return i\n",
    "        "
   ]
  },
  {
   "cell_type": "code",
   "execution_count": 15,
   "id": "aae6eafb-d86a-4aa6-9a65-be167de2c5b2",
   "metadata": {},
   "outputs": [],
   "source": [
    "list1 = [2,5,8,1,23,7564,2,645,34,0]"
   ]
  },
  {
   "cell_type": "code",
   "execution_count": 6,
   "id": "63017326-74a0-4002-9144-e3c02db91f81",
   "metadata": {},
   "outputs": [],
   "source": [
    "def linSearch_sentinel(L:list, value:any)->int:\n",
    "    i=0\n",
    "    L.append(value)\n",
    "    while L[i] != value:\n",
    "        i += 1\n",
    "    L.pop()\n",
    "    if i == len(L):\n",
    "        return -1\n",
    "    else:\n",
    "        return i"
   ]
  },
  {
   "cell_type": "code",
   "execution_count": 11,
   "id": "26c24453-71f3-474d-aa06-fd37c94b226d",
   "metadata": {},
   "outputs": [],
   "source": [
    "def linSearch_for(L:list,val:any)->int:\n",
    "    for i in range(len(L)):\n",
    "        if L[i] == val:\n",
    "            return i\n",
    "    return -1"
   ]
  },
  {
   "cell_type": "code",
   "execution_count": 22,
   "id": "1b8fe9ca-6d1f-4114-a145-09ec3cb0513b",
   "metadata": {},
   "outputs": [
    {
     "data": {
      "text/plain": [
       "0"
      ]
     },
     "execution_count": 22,
     "metadata": {},
     "output_type": "execute_result"
    }
   ],
   "source": [
    "list1.index(2)"
   ]
  },
  {
   "cell_type": "markdown",
   "id": "332118c0-d742-4f22-a55d-07ff9b7d865e",
   "metadata": {},
   "source": [
    "##### What if the list is already sorted? Can we improve the performance?"
   ]
  },
  {
   "cell_type": "markdown",
   "id": "a03389f9-63f2-4258-96c5-6883079cc32d",
   "metadata": {},
   "source": [
    "# Binary Search\n",
    "- one evaluation removes half of candidate entries"
   ]
  },
  {
   "cell_type": "code",
   "execution_count": 34,
   "id": "51fb254b-f6d7-47c3-b3cc-38b68a8d90ed",
   "metadata": {},
   "outputs": [],
   "source": [
    "def bin_search(L:list,v:any)->int:\n",
    "    start,end = 0,len(L)-1\n",
    "    while start <= end:\n",
    "        mid = (start+end)//2\n",
    "        if L[mid] < v:\n",
    "            start = mid+1\n",
    "        else:\n",
    "            end = mid -1\n",
    "    if start<len(L) and L[start]==v:\n",
    "        return start\n",
    "    else:\n",
    "        return -1"
   ]
  },
  {
   "cell_type": "code",
   "execution_count": 27,
   "id": "4932d385-ad4f-4874-af8e-e036169c8cfc",
   "metadata": {},
   "outputs": [],
   "source": [
    "sortedList = list1.sort()"
   ]
  },
  {
   "cell_type": "code",
   "execution_count": 35,
   "id": "3b027094-4ec3-4619-b7cb-3e63a4cbc6f6",
   "metadata": {},
   "outputs": [
    {
     "data": {
      "text/plain": [
       "6"
      ]
     },
     "execution_count": 35,
     "metadata": {},
     "output_type": "execute_result"
    }
   ],
   "source": [
    "bin_search(list1,23)"
   ]
  },
  {
   "cell_type": "markdown",
   "id": "596e39c1-80aa-49c3-bbd9-0479c204b2b2",
   "metadata": {},
   "source": [
    "# Selection Sort\n",
    "- Find the minimum value of the unsorted list(RHS) and swap it with the leftmost entry(of the unsorted list)"
   ]
  },
  {
   "cell_type": "code",
   "execution_count": 43,
   "id": "492da1ef-6231-4428-98c0-abef68910ed5",
   "metadata": {},
   "outputs": [],
   "source": [
    "def find_min(L:list,start_idx:int)->int:\n",
    "    smallest = start_idx\n",
    "    for i in range(start_idx+1,len(L)):\n",
    "        if L[i]<L[smallest]:\n",
    "            smallest = i\n",
    "    return smallest\n",
    "\n",
    "def selection_sort(L:list)->None:\n",
    "    for i in range(len(L)):\n",
    "        # Find the index of the smallest item in L[i:] : smallest\n",
    "        \n",
    "        smallest = find_min(L,i)\n",
    "        \n",
    "        L[i],L[smallest] = L[smallest],L[i] #swap\n",
    "        "
   ]
  },
  {
   "cell_type": "code",
   "execution_count": 37,
   "id": "cfd09a23-ec25-4b04-a1ca-6d0e32e321e9",
   "metadata": {},
   "outputs": [],
   "source": [
    "def selection_sort(L:list)->None:\n",
    "    for i in range(len(L)):\n",
    "        # Find the index of the smallest item in L[i:] : smallest\n",
    "        smallest = i\n",
    "        for j in range(i+1,len(L)):\n",
    "            if L[j] < L[smallest]:\n",
    "                smallest = j\n",
    "        \n",
    "        L[i],L[smallest] = L[smallest],L[i] #swap"
   ]
  },
  {
   "cell_type": "code",
   "execution_count": 44,
   "id": "25a6c726-7563-4a13-a63b-872b535839b9",
   "metadata": {},
   "outputs": [
    {
     "data": {
      "text/plain": [
       "[2, 5, 8, 1, 23, 7564, 2, 645, 34, 0]"
      ]
     },
     "execution_count": 44,
     "metadata": {},
     "output_type": "execute_result"
    }
   ],
   "source": [
    "list1 = [2,5,8,1,23,7564,2,645,34,0]\n",
    "list1"
   ]
  },
  {
   "cell_type": "code",
   "execution_count": 45,
   "id": "d6397741-7ea9-4e66-b553-61679c585de3",
   "metadata": {},
   "outputs": [
    {
     "data": {
      "text/plain": [
       "[0, 1, 2, 2, 5, 8, 23, 34, 645, 7564]"
      ]
     },
     "execution_count": 45,
     "metadata": {},
     "output_type": "execute_result"
    }
   ],
   "source": [
    "selection_sort(list1)\n",
    "list1"
   ]
  },
  {
   "cell_type": "markdown",
   "id": "79d07d49-79aa-4d89-ba23-110b0b3fce50",
   "metadata": {},
   "source": [
    "# Insertion Sort\n",
    "- Insert the leftmost item of the unsorted sub-list to the proper location of the sorted sub-list."
   ]
  },
  {
   "cell_type": "code",
   "execution_count": 48,
   "id": "6e286f95-6bff-4c58-a9ac-e40488dcb56c",
   "metadata": {},
   "outputs": [],
   "source": [
    "def insert(L:list,last_idx:int)->None:\n",
    "    for i in range(last_idx,0,-1):\n",
    "        if L[i-1]>L[i]:\n",
    "            L[i-1],L[i]=L[i],L[i-1]\n",
    "        else:\n",
    "            break\n",
    "\n",
    "def insertion_sort(L:list)->None:\n",
    "    for i in range(1,len(L)):\n",
    "        insert(L,i)"
   ]
  },
  {
   "cell_type": "code",
   "execution_count": 49,
   "id": "a54ab600-f001-4b09-a2a8-f2bdf65c7ff3",
   "metadata": {},
   "outputs": [
    {
     "data": {
      "text/plain": [
       "[2, 5, 8, 1, 23, 7564, 2, 645, 34, 0]"
      ]
     },
     "execution_count": 49,
     "metadata": {},
     "output_type": "execute_result"
    }
   ],
   "source": [
    "list1 = [2,5,8,1,23,7564,2,645,34,0]\n",
    "list1"
   ]
  },
  {
   "cell_type": "code",
   "execution_count": 51,
   "id": "7dd62757-0b0c-4998-b0e8-0337d9a54fdf",
   "metadata": {},
   "outputs": [
    {
     "data": {
      "text/plain": [
       "[0, 1, 2, 2, 5, 8, 23, 34, 645, 7564]"
      ]
     },
     "execution_count": 51,
     "metadata": {},
     "output_type": "execute_result"
    }
   ],
   "source": [
    "insertion_sort(list1)\n",
    "list1"
   ]
  },
  {
   "cell_type": "code",
   "execution_count": 47,
   "id": "29bdf693-fe35-4a53-a809-9ee9815693d8",
   "metadata": {},
   "outputs": [],
   "source": [
    "def insertion_sort(L:list)->None:\n",
    "    for i in range(1,len(L)):\n",
    "        for j in range(i,0,-1):\n",
    "            if L[j-1]>L[j]:\n",
    "                L[j-1],L[j]=L[j],L[j-1]\n",
    "            else:\n",
    "                break"
   ]
  },
  {
   "cell_type": "code",
   "execution_count": 52,
   "id": "87cc9094-bcd3-4900-95e3-10b4ea67ce85",
   "metadata": {},
   "outputs": [
    {
     "data": {
      "text/plain": [
       "[2, 5, 8, 1, 23, 7564, 2, 645, 34, 0]"
      ]
     },
     "execution_count": 52,
     "metadata": {},
     "output_type": "execute_result"
    }
   ],
   "source": [
    "list1 = [2,5,8,1,23,7564,2,645,34,0]\n",
    "list1"
   ]
  },
  {
   "cell_type": "code",
   "execution_count": 53,
   "id": "5c1dd741-5905-4c17-bd6f-53faae02febc",
   "metadata": {},
   "outputs": [
    {
     "data": {
      "text/plain": [
       "[0, 1, 2, 2, 5, 8, 23, 34, 645, 7564]"
      ]
     },
     "execution_count": 53,
     "metadata": {},
     "output_type": "execute_result"
    }
   ],
   "source": [
    "insertion_sort(list1)\n",
    "list1"
   ]
  },
  {
   "cell_type": "code",
   "execution_count": null,
   "id": "ab20b0c4-00f2-4495-8a53-b9aafef0b646",
   "metadata": {},
   "outputs": [],
   "source": []
  }
 ],
 "metadata": {
  "kernelspec": {
   "display_name": "Python 3 (ipykernel)",
   "language": "python",
   "name": "python3"
  },
  "language_info": {
   "codemirror_mode": {
    "name": "ipython",
    "version": 3
   },
   "file_extension": ".py",
   "mimetype": "text/x-python",
   "name": "python",
   "nbconvert_exporter": "python",
   "pygments_lexer": "ipython3",
   "version": "3.11.5"
  }
 },
 "nbformat": 4,
 "nbformat_minor": 5
}
