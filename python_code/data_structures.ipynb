{
 "cells": [
  {
   "cell_type": "markdown",
   "id": "b7a00cdf-61fe-45fe-99ed-78dc91492f2f",
   "metadata": {},
   "source": [
    "# Data Structures in Python\n",
    "- list : mutable ordered\n",
    "- - You wat to keep track of an orederd sequence that you want update\n",
    "  - Append,pop,insert,remove,get,...\n",
    "- tuple : immutable ordered(but its elements could be mutable)\n",
    "- - You want to build an oredered sequence that you know won't change or that you want to use as a key in a dictionary or as a value in a set\n",
    "- set : mutable not ordered\n",
    "- - You want to keep track of valueds, but order doesn't matter, and you don't want duplicates. The values must be immutable\n",
    "- dictionary : mutable ordered\n",
    "- - You want to keep a mapping of keys to values. The keys must be immutable"
   ]
  },
  {
   "cell_type": "markdown",
   "id": "7f795c63-a639-4f09-89e4-626fbe300df6",
   "metadata": {},
   "source": [
    "- Lists are built on arrays. Array is a contiguous object in memory boxes. It has fixed integer length.\n",
    "- But lists are dynamic! -> \"Array Resizing\" technique\n",
    "- To resize fewer, Python list size grows as 0,4,8,16,25,35,46,58,...\n",
    "- - Mild over-sizing"
   ]
  },
  {
   "cell_type": "markdown",
   "id": "84dd4565-5a43-46fe-b112-39f50b070279",
   "metadata": {},
   "source": [
    "## Linked list\n",
    "[1] room101 [2] room507 [3] room102 ... : sequence of values but not necessarily neighboring in memory."
   ]
  },
  {
   "cell_type": "code",
   "execution_count": 1,
   "id": "0ad2a0e2-7272-405d-a665-3b833d148456",
   "metadata": {},
   "outputs": [],
   "source": [
    "class LinkedNode():\n",
    "    def __init__(self,x):\n",
    "        self.val = x\n",
    "        self.next = None # A special variable for linking to another node"
   ]
  },
  {
   "cell_type": "code",
   "execution_count": 2,
   "id": "2416f8fd-ea5f-49ec-bcd1-630995035439",
   "metadata": {},
   "outputs": [],
   "source": [
    "a = LinkedNode(5)\n",
    "b = LinkedNode(7)\n",
    "a.next = b"
   ]
  },
  {
   "cell_type": "code",
   "execution_count": 3,
   "id": "99f64380-0a64-462e-8271-cac3191b35ba",
   "metadata": {},
   "outputs": [
    {
     "data": {
      "text/plain": [
       "<__main__.LinkedNode at 0x2c0af175310>"
      ]
     },
     "execution_count": 3,
     "metadata": {},
     "output_type": "execute_result"
    }
   ],
   "source": [
    "a"
   ]
  },
  {
   "cell_type": "code",
   "execution_count": 4,
   "id": "64564506-6ad5-4304-9b9e-95fce283626f",
   "metadata": {},
   "outputs": [
    {
     "data": {
      "text/plain": [
       "5"
      ]
     },
     "execution_count": 4,
     "metadata": {},
     "output_type": "execute_result"
    }
   ],
   "source": [
    "a.val"
   ]
  },
  {
   "cell_type": "code",
   "execution_count": 5,
   "id": "8e705d73-0e22-4281-84eb-cddf87590825",
   "metadata": {},
   "outputs": [
    {
     "data": {
      "text/plain": [
       "<__main__.LinkedNode at 0x2c0b06b8390>"
      ]
     },
     "execution_count": 5,
     "metadata": {},
     "output_type": "execute_result"
    }
   ],
   "source": [
    "a.next"
   ]
  },
  {
   "cell_type": "code",
   "execution_count": 6,
   "id": "b17ee605-d0c7-4b46-9c67-fa29862e1680",
   "metadata": {},
   "outputs": [
    {
     "data": {
      "text/plain": [
       "7"
      ]
     },
     "execution_count": 6,
     "metadata": {},
     "output_type": "execute_result"
    }
   ],
   "source": [
    "a.next.val"
   ]
  },
  {
   "cell_type": "code",
   "execution_count": 16,
   "id": "1353df6f-a15e-4760-b388-14ccb8819f2a",
   "metadata": {},
   "outputs": [],
   "source": [
    "class SLList():\n",
    "    def __init__(self)->None:\n",
    "        self.first = None\n",
    "\n",
    "    def addFirst(self,x:int) -> None:\n",
    "        newFirst = LinkedNode(x)\n",
    "        newFirst.next = self.first\n",
    "        self.first = newFirst\n",
    "\n",
    "    def getFirst(self)->None:\n",
    "        if self.first:\n",
    "            return self.first.val\n",
    "        return None\n",
    "\n",
    "    def getSize(self)->int:\n",
    "        curr = self.first\n",
    "        size = 0\n",
    "        while curr:\n",
    "            curr = curr.next\n",
    "            size += 1\n",
    "        return size"
   ]
  },
  {
   "cell_type": "code",
   "execution_count": 28,
   "id": "0b1747c3-c9b8-40ed-8df0-a64e270d58b0",
   "metadata": {},
   "outputs": [
    {
     "data": {
      "text/plain": [
       "10"
      ]
     },
     "execution_count": 28,
     "metadata": {},
     "output_type": "execute_result"
    }
   ],
   "source": [
    "L = SLList()\n",
    "L.first = LinkedNode(5) # 구멍이 있다. first를 직접 지정해줄 경우 size 가 +1 되지 않는다...\n",
    "L.addFirst(10)\n",
    "L.getFirst()"
   ]
  },
  {
   "cell_type": "code",
   "execution_count": 29,
   "id": "db46a7a2-6bcf-4e32-beda-60c34c5eaed1",
   "metadata": {},
   "outputs": [
    {
     "data": {
      "text/plain": [
       "1"
      ]
     },
     "execution_count": 29,
     "metadata": {},
     "output_type": "execute_result"
    }
   ],
   "source": [
    "L.getSize()"
   ]
  },
  {
   "cell_type": "code",
   "execution_count": 30,
   "id": "92a59822-2737-490d-ba09-499104fc1ac3",
   "metadata": {},
   "outputs": [
    {
     "data": {
      "text/plain": [
       "2"
      ]
     },
     "execution_count": 30,
     "metadata": {},
     "output_type": "execute_result"
    }
   ],
   "source": [
    "L.addFirst(0)\n",
    "L.getSize()"
   ]
  },
  {
   "cell_type": "markdown",
   "id": "7cbc6311-cc10-49a0-abff-2330cb4b9a3c",
   "metadata": {},
   "source": [
    "- But it takes O(N) time... How to reduce time?\n",
    "- Let's just add a size variable(memory complexity vs computation compexity)"
   ]
  },
  {
   "cell_type": "code",
   "execution_count": 39,
   "id": "ff2547d2-5511-426c-a34b-cb56c3fbb7cc",
   "metadata": {},
   "outputs": [],
   "source": [
    "class SLList():\n",
    "    def __init__(self)->None:\n",
    "        self.first = None\n",
    "        if self.first:\n",
    "            self.size = 1\n",
    "        else:\n",
    "            self.size = 0\n",
    "\n",
    "    def addFirst(self,x:int) -> None:\n",
    "        newFirst = LinkedNode(x)\n",
    "        newFirst.next = self.first\n",
    "        self.first = newFirst\n",
    "        self.size += 1\n",
    "\n",
    "    def getFirst(self)->None:\n",
    "        if self.first:\n",
    "            return self.first.val\n",
    "        return None\n",
    "\n",
    "    def getSize(self)->int:\n",
    "        return self.size\n",
    "\n",
    "    def append(self,x:int)->None:\n",
    "        if self.first:\n",
    "            self.size += 1\n",
    "            cur = self.first\n",
    "            nex = cur.next\n",
    "            while nex:\n",
    "                cur = cur.next\n",
    "                nex = nex.next\n",
    "            cur.next = LinkedNode(x)\n",
    "        else:\n",
    "            self.addFirst(x)"
   ]
  },
  {
   "cell_type": "code",
   "execution_count": 44,
   "id": "e4c81301-a51f-46c9-b025-7ccd6d93cfe3",
   "metadata": {},
   "outputs": [
    {
     "name": "stdout",
     "output_type": "stream",
     "text": [
      "4 0\n"
     ]
    }
   ],
   "source": [
    "L = SLList()\n",
    "L.addFirst(5)\n",
    "L.addFirst(10)\n",
    "L.addFirst(0)\n",
    "L.append(7)\n",
    "print(L.getSize(),L.getFirst())"
   ]
  },
  {
   "cell_type": "code",
   "execution_count": 42,
   "id": "676ba29f-5c7a-479f-aeff-84bd2814f08a",
   "metadata": {},
   "outputs": [],
   "source": [
    "# If the Single linked list is empty, then append should operate as addFirst\n",
    "\n",
    "L = SLList()\n",
    "L.append(0)"
   ]
  },
  {
   "cell_type": "code",
   "execution_count": 43,
   "id": "97aa11d2-3df4-4ca9-b217-d60b7a93a4ee",
   "metadata": {},
   "outputs": [
    {
     "name": "stdout",
     "output_type": "stream",
     "text": [
      "0 1\n"
     ]
    }
   ],
   "source": [
    "print(L.getFirst(),L.getSize())"
   ]
  },
  {
   "cell_type": "code",
   "execution_count": 45,
   "id": "20fbe637-55e9-46dc-9616-8790cab3a39a",
   "metadata": {},
   "outputs": [],
   "source": [
    "L = SLList()\n",
    "L.addFirst(5)\n",
    "L.append(0)"
   ]
  },
  {
   "cell_type": "code",
   "execution_count": 46,
   "id": "305abbfe-2f7c-421b-a485-8ec745665aba",
   "metadata": {},
   "outputs": [
    {
     "name": "stdout",
     "output_type": "stream",
     "text": [
      "2 5\n"
     ]
    }
   ],
   "source": [
    "print(L.getSize(),L.getFirst())"
   ]
  },
  {
   "cell_type": "markdown",
   "id": "8c285d31-aff9-4e84-b1fb-bd14698dbf79",
   "metadata": {},
   "source": [
    "### Another method : Sentinel Node"
   ]
  },
  {
   "cell_type": "code",
   "execution_count": 53,
   "id": "dce07f62-9c08-4936-a7ae-b2cc848a5483",
   "metadata": {},
   "outputs": [],
   "source": [
    "class SLList():\n",
    "    def __init__(self)->None:\n",
    "        self.sentinel = LinkedNode(-10000)\n",
    "        if self.sentinel.next:\n",
    "            self.size = 1\n",
    "        else:\n",
    "            self.size = 0\n",
    "\n",
    "    def addFirst(self,x:int) -> None:\n",
    "        newFirst = LinkedNode(x)\n",
    "        newFirst.next = self.sentinel.next\n",
    "        self.sentinel.next = newFirst\n",
    "        self.size += 1\n",
    "\n",
    "    def getFirst(self)->None:\n",
    "        if self.sentinel.next:\n",
    "            return self.sentinel.next.val\n",
    "        return None\n",
    "\n",
    "    def getSize(self)->int:\n",
    "        return self.size\n",
    "\n",
    "    def append(self,x:int)->None:\n",
    "        self.size += 1\n",
    "        cur = self.sentinel\n",
    "        nex = cur.next\n",
    "        while nex:\n",
    "            cur = cur.next\n",
    "            nex = nex.next\n",
    "        cur.next = LinkedNode(x)"
   ]
  },
  {
   "cell_type": "code",
   "execution_count": 54,
   "id": "2e950dc1-7aed-4cd9-9f5b-65829518ddc8",
   "metadata": {},
   "outputs": [
    {
     "name": "stdout",
     "output_type": "stream",
     "text": [
      "4 0\n"
     ]
    }
   ],
   "source": [
    "L = SLList()\n",
    "L.addFirst(5)\n",
    "L.addFirst(10)\n",
    "L.addFirst(0)\n",
    "L.append(7)\n",
    "print(L.getSize(),L.getFirst())"
   ]
  },
  {
   "cell_type": "code",
   "execution_count": 55,
   "id": "a0dbc998-449a-45a6-a7e1-806f55bf82ec",
   "metadata": {},
   "outputs": [
    {
     "name": "stdout",
     "output_type": "stream",
     "text": [
      "0 1\n"
     ]
    }
   ],
   "source": [
    "L = SLList()\n",
    "L.append(0)\n",
    "print(L.getFirst(),L.getSize())"
   ]
  },
  {
   "cell_type": "markdown",
   "id": "2fac6c72-9806-42d9-8e3f-0f6c72312c69",
   "metadata": {},
   "source": [
    "### Looking Forward..\n",
    "#### Problem : append() is still much lower than addFirst()\n",
    "#### Solution : Doubly linked list(DLList)\n",
    "- Add another sentinel at the back\n",
    "- Each node has not only next but also prev(pointing at the previous node)\n",
    "- deque?"
   ]
  },
  {
   "cell_type": "markdown",
   "id": "eb85a7a7-fb1e-477c-899a-49992437b418",
   "metadata": {},
   "source": [
    "## Queues"
   ]
  },
  {
   "cell_type": "code",
   "execution_count": null,
   "id": "9b058020-9fba-42e6-9f12-e9471baf665b",
   "metadata": {},
   "outputs": [],
   "source": []
  }
 ],
 "metadata": {
  "kernelspec": {
   "display_name": "Python 3 (ipykernel)",
   "language": "python",
   "name": "python3"
  },
  "language_info": {
   "codemirror_mode": {
    "name": "ipython",
    "version": 3
   },
   "file_extension": ".py",
   "mimetype": "text/x-python",
   "name": "python",
   "nbconvert_exporter": "python",
   "pygments_lexer": "ipython3",
   "version": "3.11.5"
  }
 },
 "nbformat": 4,
 "nbformat_minor": 5
}
