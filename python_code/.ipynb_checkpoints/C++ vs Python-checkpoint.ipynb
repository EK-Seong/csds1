{
 "cells": [
  {
   "cell_type": "code",
   "execution_count": 11,
   "id": "c05daf05-301d-4169-bd61-09b9b618ade5",
   "metadata": {},
   "outputs": [],
   "source": [
    "def search_Python(A:list,key:int):\n",
    "    for i in range(len(A)):\n",
    "        if A[i]==key:\n",
    "            return i"
   ]
  },
  {
   "cell_type": "code",
   "execution_count": 12,
   "id": "027df0db-51d9-4791-bec3-61620cee9ca9",
   "metadata": {},
   "outputs": [],
   "source": [
    "import random\n",
    "\n",
    "listSize = 10000000\n",
    "nums = list(range(listSize))\n",
    "random.shuffle(nums)"
   ]
  },
  {
   "cell_type": "code",
   "execution_count": 13,
   "id": "7a2994b6-f51f-48fd-a040-8acb142024b2",
   "metadata": {},
   "outputs": [
    {
     "name": "stdout",
     "output_type": "stream",
     "text": [
      "[C/C++]\n",
      "Answer: 9019325 \t Latency: 421.616943359375 ms\n",
      "[Python]\n",
      "answer: 9019325 \t Latency: 768.583251953125 ms\n"
     ]
    }
   ],
   "source": [
    "import time\n",
    "\n",
    "key = 100\n",
    "\n",
    "c_start = time.time()*1000\n",
    "c_index = nums.index(key)\n",
    "c_end = time.time()*1000\n",
    "print(\"[C/C++]\")\n",
    "print(\"Answer:\",c_index,\"\\t Latency:\",c_end-c_start,\"ms\")\n",
    "\n",
    "p_start = time.time()*1000\n",
    "p_index = search_Python(nums,key)\n",
    "p_end = time.time()*1000\n",
    "print(\"[Python]\")\n",
    "print(\"answer:\",p_index, \"\\t Latency:\",p_end-p_start,\"ms\")"
   ]
  },
  {
   "cell_type": "code",
   "execution_count": null,
   "id": "df58c648-ef18-4dc4-96f8-383298ae0352",
   "metadata": {},
   "outputs": [],
   "source": []
  }
 ],
 "metadata": {
  "kernelspec": {
   "display_name": "Python 3 (ipykernel)",
   "language": "python",
   "name": "python3"
  },
  "language_info": {
   "codemirror_mode": {
    "name": "ipython",
    "version": 3
   },
   "file_extension": ".py",
   "mimetype": "text/x-python",
   "name": "python",
   "nbconvert_exporter": "python",
   "pygments_lexer": "ipython3",
   "version": "3.11.5"
  }
 },
 "nbformat": 4,
 "nbformat_minor": 5
}
